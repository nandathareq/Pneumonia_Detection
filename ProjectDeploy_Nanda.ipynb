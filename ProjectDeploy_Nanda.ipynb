{
  "cells": [
    {
      "cell_type": "markdown",
      "source": [
        "# **Pneumonia Detection**\n",
        "\n",
        "program ini berfungsi untuk mendeteksi keberadaan penyakit pneumonia dari sebuah gambar scan paru-paru"
      ],
      "metadata": {
        "id": "kl72Ss6fpMQT"
      }
    },
    {
      "cell_type": "markdown",
      "metadata": {
        "id": "T9XC8gIKMgxp"
      },
      "source": [
        "# **Get Data**"
      ]
    },
    {
      "cell_type": "markdown",
      "metadata": {
        "id": "WcE04i7fMlra"
      },
      "source": [
        "kode dibawah mendapatkan data scan paru-paru pneumonia"
      ]
    },
    {
      "cell_type": "code",
      "execution_count": null,
      "metadata": {
        "colab": {
          "base_uri": "https://localhost:8080/"
        },
        "id": "N6m_K49sIkSG",
        "outputId": "3f5ad999-3a1e-4f2f-cd11-85275cbba4cc"
      },
      "outputs": [
        {
          "name": "stdout",
          "output_type": "stream",
          "text": [
            "--2021-07-08 07:01:50--  https://md-datasets-cache-zipfiles-prod.s3.eu-west-1.amazonaws.com/rscbjbr9sj-3.zip\n",
            "Resolving md-datasets-cache-zipfiles-prod.s3.eu-west-1.amazonaws.com (md-datasets-cache-zipfiles-prod.s3.eu-west-1.amazonaws.com)... 52.218.62.152\n",
            "Connecting to md-datasets-cache-zipfiles-prod.s3.eu-west-1.amazonaws.com (md-datasets-cache-zipfiles-prod.s3.eu-west-1.amazonaws.com)|52.218.62.152|:443... connected.\n",
            "HTTP request sent, awaiting response... 200 OK\n",
            "Length: 8432836958 (7.9G) [application/octet-stream]\n",
            "Saving to: ‘rscbjbr9sj-3.zip’\n",
            "\n",
            "rscbjbr9sj-3.zip    100%[===================>]   7.85G  29.2MB/s    in 4m 34s  \n",
            "\n",
            "2021-07-08 07:06:25 (29.3 MB/s) - ‘rscbjbr9sj-3.zip’ saved [8432836958/8432836958]\n",
            "\n"
          ]
        }
      ],
      "source": [
        "!wget https://md-datasets-cache-zipfiles-prod.s3.eu-west-1.amazonaws.com/rscbjbr9sj-3.zip"
      ]
    },
    {
      "cell_type": "markdown",
      "metadata": {
        "id": "SzZk16-0TzpT"
      },
      "source": [
        "ekstrak file "
      ]
    },
    {
      "cell_type": "code",
      "execution_count": null,
      "metadata": {
        "colab": {
          "base_uri": "https://localhost:8080/"
        },
        "id": "zZfSRRBVQ7E1",
        "outputId": "8beb4b07-f09b-4887-f8b9-9b8e7bd415b2"
      },
      "outputs": [
        {
          "name": "stdout",
          "output_type": "stream",
          "text": [
            "selesai1\n",
            "selesai2\n"
          ]
        }
      ],
      "source": [
        "from zipfile import ZipFile\n",
        "nama_file = 'rscbjbr9sj-3.zip'\n",
        "\n",
        "with ZipFile(nama_file, 'r') as zip:\n",
        "  zip.extractall()\n",
        "  print('selesai1')\n",
        "\n",
        "nama_file = 'ZhangLabData.zip'\n",
        "\n",
        "with ZipFile(nama_file, 'r') as zip:\n",
        "  zip.extractall()\n",
        "  print('selesai2')"
      ]
    },
    {
      "cell_type": "code",
      "execution_count": null,
      "metadata": {
        "colab": {
          "base_uri": "https://localhost:8080/"
        },
        "id": "eDMy572NToFk",
        "outputId": "fb07cd36-d6e7-477c-8748-df2ba1ce9dc8"
      },
      "outputs": [
        {
          "name": "stdout",
          "output_type": "stream",
          "text": [
            "1349\n"
          ]
        }
      ],
      "source": [
        "import os\n",
        "\n",
        "img_folder_path = '/content/CellData/chest_xray/train/NORMAL'\n",
        "dirListing = os.listdir(img_folder_path)\n",
        "\n",
        "print(len(dirListing))"
      ]
    },
    {
      "cell_type": "markdown",
      "source": [
        "Split training data dan test data"
      ],
      "metadata": {
        "id": "T54r0yQ0nshG"
      }
    },
    {
      "cell_type": "code",
      "execution_count": null,
      "metadata": {
        "id": "ZzMdodKOYND8"
      },
      "outputs": [],
      "source": [
        "from tensorflow.keras.preprocessing.image import ImageDataGenerator\n",
        "\n",
        "train_datagen = ImageDataGenerator(\n",
        "                    rescale=1./255,\n",
        "                    rotation_range=20,\n",
        "                    horizontal_flip=True,\n",
        "                    shear_range = 0.2,\n",
        "                    fill_mode = 'nearest',\n",
        "                    validation_split=0.2) # splitting data"
      ]
    },
    {
      "cell_type": "code",
      "execution_count": null,
      "metadata": {
        "colab": {
          "base_uri": "https://localhost:8080/"
        },
        "id": "GSDYTZmXYqwL",
        "outputId": "751afd6f-9d67-4d03-d430-77c9b5c02a1f"
      },
      "outputs": [
        {
          "name": "stdout",
          "output_type": "stream",
          "text": [
            "Found 4187 images belonging to 2 classes.\n",
            "Found 1045 images belonging to 2 classes.\n"
          ]
        }
      ],
      "source": [
        "train_generator = train_datagen.flow_from_directory(\n",
        "        \"/content/CellData/chest_xray/train\",\n",
        "        target_size=(150, 150),  \n",
        "        batch_size=4,\n",
        "        class_mode='categorical',\n",
        "        subset='training')\n",
        " \n",
        "validation_generator = train_datagen.flow_from_directory(\n",
        "        \"/content/CellData/chest_xray/train\", \n",
        "        target_size=(150, 150),\n",
        "        batch_size=4,\n",
        "        class_mode='categorical',\n",
        "        subset='validation')"
      ]
    },
    {
      "cell_type": "markdown",
      "metadata": {
        "id": "qzCj-280Z8S_"
      },
      "source": [
        "# **Train Model**"
      ]
    },
    {
      "cell_type": "markdown",
      "metadata": {
        "id": "1Y3O9su4Z-nL"
      },
      "source": [
        "Buat Model"
      ]
    },
    {
      "cell_type": "code",
      "execution_count": null,
      "metadata": {
        "id": "hg9negOnZ5-9"
      },
      "outputs": [],
      "source": [
        "import tensorflow as tf\n",
        "model = tf.keras.models.Sequential([\n",
        "    tf.keras.layers.Conv2D(64, (3,3), activation='relu', input_shape=(150, 150, 3)),\n",
        "    tf.keras.layers.MaxPooling2D(2, 2),\n",
        "    tf.keras.layers.Conv2D(64, (3,3), activation='relu'),\n",
        "    tf.keras.layers.MaxPooling2D(2,2),\n",
        "    tf.keras.layers.Conv2D(128, (3,3), activation='relu'),\n",
        "    tf.keras.layers.MaxPooling2D(2,2),\n",
        "    tf.keras.layers.Conv2D(128, (3,3), activation='relu'),\n",
        "    tf.keras.layers.MaxPooling2D(2,2),\n",
        "    tf.keras.layers.Flatten(),\n",
        "    tf.keras.layers.Dropout(0.5),\n",
        "    tf.keras.layers.Dense(512, activation='relu'),\n",
        "    tf.keras.layers.Dense(2, activation='softmax')\n",
        "])"
      ]
    },
    {
      "cell_type": "markdown",
      "metadata": {
        "id": "P1Y73HJtaMxf"
      },
      "source": [
        "Compile Model\n"
      ]
    },
    {
      "cell_type": "code",
      "execution_count": null,
      "metadata": {
        "id": "DjC-TJmSaNW7"
      },
      "outputs": [],
      "source": [
        "model.compile(loss = 'binary_crossentropy', \n",
        "              optimizer='rmsprop', metrics=['accuracy'])"
      ]
    },
    {
      "cell_type": "markdown",
      "metadata": {
        "id": "WH74wGFhap8u"
      },
      "source": [
        "fungsi callback selesai di 98%"
      ]
    },
    {
      "cell_type": "code",
      "execution_count": null,
      "metadata": {
        "id": "3-MGfIIVapXm"
      },
      "outputs": [],
      "source": [
        "class myCallback(tf.keras.callbacks.Callback):\n",
        "  def on_epoch_end(self, epoch, logs={}):\n",
        "    if(logs.get('accuracy')>0.98):\n",
        "      print(\"\\nAkurasi telah mencapai >98%!\")\n",
        "      self.model.stop_training = True\n",
        "callbacks = myCallback()"
      ]
    },
    {
      "cell_type": "markdown",
      "metadata": {
        "id": "IyT9SnyFawJf"
      },
      "source": [
        "train model"
      ]
    },
    {
      "cell_type": "code",
      "execution_count": null,
      "metadata": {
        "colab": {
          "base_uri": "https://localhost:8080/"
        },
        "id": "eSvWqfp6axe3",
        "outputId": "858e5e59-21e8-4d5a-cd04-295a36dd4cc8"
      },
      "outputs": [
        {
          "name": "stdout",
          "output_type": "stream",
          "text": [
            "Epoch 1/30\n",
            "30/30 - 12s - loss: 0.8026 - accuracy: 0.7583 - val_loss: 1.8563 - val_accuracy: 0.6500\n",
            "Epoch 2/30\n",
            "30/30 - 11s - loss: 0.7483 - accuracy: 0.6917 - val_loss: 0.6799 - val_accuracy: 0.6000\n",
            "Epoch 3/30\n",
            "30/30 - 11s - loss: 0.6730 - accuracy: 0.7583 - val_loss: 0.6064 - val_accuracy: 0.7000\n",
            "Epoch 4/30\n",
            "30/30 - 11s - loss: 0.6208 - accuracy: 0.7167 - val_loss: 0.5680 - val_accuracy: 0.7500\n",
            "Epoch 5/30\n",
            "30/30 - 11s - loss: 0.6302 - accuracy: 0.7917 - val_loss: 0.4292 - val_accuracy: 0.8500\n",
            "Epoch 6/30\n",
            "30/30 - 11s - loss: 0.5960 - accuracy: 0.7250 - val_loss: 5.7847 - val_accuracy: 0.6500\n",
            "Epoch 7/30\n",
            "30/30 - 11s - loss: 0.8011 - accuracy: 0.7083 - val_loss: 0.6865 - val_accuracy: 0.7000\n",
            "Epoch 8/30\n",
            "30/30 - 11s - loss: 0.6729 - accuracy: 0.7833 - val_loss: 0.6978 - val_accuracy: 0.6000\n",
            "Epoch 9/30\n",
            "30/30 - 11s - loss: 0.7440 - accuracy: 0.7143 - val_loss: 0.5427 - val_accuracy: 0.8500\n",
            "Epoch 10/30\n",
            "30/30 - 11s - loss: 0.6146 - accuracy: 0.7417 - val_loss: 1.5573 - val_accuracy: 0.7000\n",
            "Epoch 11/30\n",
            "30/30 - 11s - loss: 0.5661 - accuracy: 0.7667 - val_loss: 0.3162 - val_accuracy: 0.8500\n",
            "Epoch 12/30\n",
            "30/30 - 11s - loss: 0.5930 - accuracy: 0.6833 - val_loss: 0.5207 - val_accuracy: 0.6500\n",
            "Epoch 13/30\n",
            "30/30 - 11s - loss: 0.6820 - accuracy: 0.7000 - val_loss: 0.5418 - val_accuracy: 0.7000\n",
            "Epoch 14/30\n",
            "30/30 - 12s - loss: 0.6047 - accuracy: 0.7167 - val_loss: 0.2356 - val_accuracy: 1.0000\n",
            "Epoch 15/30\n",
            "30/30 - 13s - loss: 0.5561 - accuracy: 0.7500 - val_loss: 0.5189 - val_accuracy: 0.6500\n",
            "Epoch 16/30\n",
            "30/30 - 11s - loss: 0.5185 - accuracy: 0.7083 - val_loss: 0.2431 - val_accuracy: 0.9500\n",
            "Epoch 17/30\n",
            "30/30 - 11s - loss: 0.4605 - accuracy: 0.8083 - val_loss: 0.4122 - val_accuracy: 0.9000\n",
            "Epoch 18/30\n",
            "30/30 - 11s - loss: 0.4391 - accuracy: 0.8250 - val_loss: 0.3157 - val_accuracy: 0.9000\n",
            "Epoch 19/30\n",
            "30/30 - 11s - loss: 0.4980 - accuracy: 0.8167 - val_loss: 0.2593 - val_accuracy: 0.9000\n",
            "Epoch 20/30\n",
            "30/30 - 11s - loss: 0.4120 - accuracy: 0.8500 - val_loss: 0.2282 - val_accuracy: 0.9000\n",
            "Epoch 21/30\n",
            "30/30 - 11s - loss: 0.3888 - accuracy: 0.8583 - val_loss: 0.3692 - val_accuracy: 0.8500\n",
            "Epoch 22/30\n",
            "30/30 - 11s - loss: 0.4223 - accuracy: 0.8333 - val_loss: 0.6516 - val_accuracy: 0.7000\n",
            "Epoch 23/30\n",
            "30/30 - 11s - loss: 0.3962 - accuracy: 0.8417 - val_loss: 0.2410 - val_accuracy: 1.0000\n",
            "Epoch 24/30\n",
            "30/30 - 11s - loss: 0.3609 - accuracy: 0.8583 - val_loss: 0.3369 - val_accuracy: 0.8000\n",
            "Epoch 25/30\n",
            "30/30 - 11s - loss: 0.3451 - accuracy: 0.8250 - val_loss: 0.2986 - val_accuracy: 0.9000\n",
            "Epoch 26/30\n",
            "30/30 - 11s - loss: 0.3653 - accuracy: 0.8417 - val_loss: 0.0954 - val_accuracy: 0.9500\n",
            "Epoch 27/30\n",
            "30/30 - 11s - loss: 0.4344 - accuracy: 0.8333 - val_loss: 0.3308 - val_accuracy: 0.8000\n",
            "Epoch 28/30\n",
            "30/30 - 11s - loss: 0.3512 - accuracy: 0.8417 - val_loss: 0.3196 - val_accuracy: 0.8000\n",
            "Epoch 29/30\n",
            "30/30 - 11s - loss: 0.3323 - accuracy: 0.8667 - val_loss: 0.1336 - val_accuracy: 0.9500\n",
            "Epoch 30/30\n",
            "30/30 - 11s - loss: 0.3335 - accuracy: 0.8750 - val_loss: 0.2455 - val_accuracy: 0.8500\n"
          ]
        }
      ],
      "source": [
        "# latih model dengan model.fit \n",
        "history = model.fit(\n",
        "      train_generator, \n",
        "      steps_per_epoch=30,\n",
        "      epochs=30, \n",
        "      validation_data=validation_generator, \n",
        "      validation_steps=5,  \n",
        "      verbose=2,\n",
        "      callbacks=callbacks)"
      ]
    },
    {
      "cell_type": "markdown",
      "metadata": {
        "id": "XQd_ajjbbA2g"
      },
      "source": [
        "kode di bawah ini untuk melihat performa model"
      ]
    },
    {
      "cell_type": "code",
      "execution_count": null,
      "metadata": {
        "colab": {
          "base_uri": "https://localhost:8080/",
          "height": 295
        },
        "id": "AbRQWJR5bER-",
        "outputId": "c2819fec-850c-4b59-f2a8-28fb50de735d"
      },
      "outputs": [
        {
          "data": {
            "image/png": "[encoded data removed]",
            "text/plain": [
              "<Figure size 432x288 with 1 Axes>"
            ]
          },
          "metadata": {
            "tags": []
          },
          "output_type": "display_data"
        }
      ],
      "source": [
        "from matplotlib import pyplot as plt\n",
        "\n",
        "# Plot history: MAE\n",
        "plt.plot(history.history['loss'], label='Training Loss')\n",
        "plt.plot(history.history['val_loss'], label='Validation Loss')\n",
        "plt.title('Training and Validation Loss')\n",
        "plt.ylabel('value')\n",
        "plt.xlabel('No. epoch')\n",
        "plt.legend(loc=\"upper left\")\n",
        "plt.show()"
      ]
    },
    {
      "cell_type": "code",
      "execution_count": null,
      "metadata": {
        "colab": {
          "base_uri": "https://localhost:8080/",
          "height": 295
        },
        "id": "UbutS_fIbFk9",
        "outputId": "19554b47-a259-422b-8116-6dd7fc350754"
      },
      "outputs": [
        {
          "data": {
            "image/png": "[encoded data removed]",
            "text/plain": [
              "<Figure size 432x288 with 1 Axes>"
            ]
          },
          "metadata": {
            "tags": []
          },
          "output_type": "display_data"
        }
      ],
      "source": [
        "# Plot history: MSE\n",
        "plt.plot(history.history['accuracy'], label='Training Accuracy')\n",
        "plt.plot(history.history['val_accuracy'], label='Validation Accuracy')\n",
        "plt.title('Training and Validation Accuracy')\n",
        "plt.ylabel('value')\n",
        "plt.xlabel('No. epoch')\n",
        "plt.legend(loc=\"upper left\")\n",
        "plt.show()"
      ]
    },
    {
      "cell_type": "markdown",
      "source": [
        "# **Test Model menggunakan input**"
      ],
      "metadata": {
        "id": "GJHvJfQApidp"
      }
    },
    {
      "cell_type": "code",
      "execution_count": null,
      "metadata": {
        "colab": {
          "background_save": true,
          "base_uri": "https://localhost:8080/",
          "height": 342,
          "resources": {
            "http://localhost:8080/nbextensions/google.colab/files.js": {
              "data": "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",
              "headers": [
                [
                  "content-type",
                  "application/javascript"
                ]
              ],
              "ok": true,
              "status": 200,
              "status_text": ""
            }
          }
        },
        "id": "aALMsYuQxfuB",
        "outputId": "bf467cf2-9281-4d84-ba38-0f2cdd8c5f2e"
      },
      "outputs": [
        {
          "data": {
            "text/html": [
              "\n",
              "     <input type=\"file\" id=\"files-704cc02c-8e1f-4c19-8db4-13ce2a25a571\" name=\"files[]\" multiple disabled\n",
              "        style=\"border:none\" />\n",
              "     <output id=\"result-704cc02c-8e1f-4c19-8db4-13ce2a25a571\">\n",
              "      Upload widget is only available when the cell has been executed in the\n",
              "      current browser session. Please rerun this cell to enable.\n",
              "      </output>\n",
              "      <script src=\"/nbextensions/google.colab/files.js\"></script> "
            ],
            "text/plain": [
              "<IPython.core.display.HTML object>"
            ]
          },
          "metadata": {},
          "output_type": "display_data"
        }
      ],
      "source": [
        "import numpy as np\n",
        "from google.colab import files\n",
        "from keras.preprocessing import image\n",
        "import matplotlib.pyplot as plt\n",
        "import matplotlib.image as mpimg\n",
        "%matplotlib inline\n",
        " \n",
        "uploaded = files.upload()\n",
        " \n",
        "for fn in uploaded.keys():\n",
        " \n",
        "  # predicting images\n",
        "  path = fn\n",
        "  img = image.load_img(path, target_size=(150,150))\n",
        "  imgplot = plt.imshow(img)\n",
        "  x = image.img_to_array(img)\n",
        "  x = np.expand_dims(x, axis=0)\n",
        " \n",
        "  images = np.vstack([x])\n",
        "  classes = model.predict(images, batch_size=10)\n",
        "\n",
        "if classes[0][0] == 1 :\n",
        "  print(\"jawaban : normal\")\n",
        "else:\n",
        "  print(\"jawaban : pneumonia\")"
      ]
    },
    {
      "cell_type": "markdown",
      "metadata": {
        "id": "aoe8Rl47hAoE"
      },
      "source": [
        "# **Konversi Model**"
      ]
    },
    {
      "cell_type": "markdown",
      "metadata": {
        "id": "tjc54669hDCb"
      },
      "source": [
        "convert model"
      ]
    },
    {
      "cell_type": "code",
      "execution_count": null,
      "metadata": {
        "colab": {
          "base_uri": "https://localhost:8080/"
        },
        "id": "v9NfJxNYhE-X",
        "outputId": "64a1491b-f59c-4177-d565-e3a9407507e6"
      },
      "outputs": [
        {
          "name": "stdout",
          "output_type": "stream",
          "text": [
            "INFO:tensorflow:Assets written to: /tmp/tmpxz6w8qlu/assets\n"
          ]
        }
      ],
      "source": [
        "# converter = tf.lite.TFLiteConverter.from_keras_model(model)\n",
        "# tflite_model = converter.convert()\n"
      ]
    },
    {
      "cell_type": "markdown",
      "metadata": {
        "id": "lc1RdwJlhHzI"
      },
      "source": [
        "save model"
      ]
    },
    {
      "cell_type": "code",
      "execution_count": null,
      "metadata": {
        "id": "vc7zoXi7hIwO"
      },
      "outputs": [],
      "source": [
        "# with tf.io.gfile.GFile('model.tflite', 'wb') as f:\n",
        "  # f.write(tflite_model)"
      ]
    }
  ],
  "metadata": {
    "colab": {
      "name": "ProjectDeploy_Nanda.ipynb",
      "provenance": []
    },
    "kernelspec": {
      "display_name": "Python 3",
      "name": "python3"
    },
    "language_info": {
      "name": "python"
    }
  },
  "nbformat": 4,
  "nbformat_minor": 0
}